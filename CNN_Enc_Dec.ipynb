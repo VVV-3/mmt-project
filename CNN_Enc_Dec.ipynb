{
 "cells": [
  {
   "cell_type": "code",
   "execution_count": 1,
   "id": "915808ed",
   "metadata": {},
   "outputs": [],
   "source": [
    "import torch\n",
    "import torch.nn as nn\n",
    "import torch.nn.functional as F"
   ]
  },
  {
   "cell_type": "code",
   "execution_count": 2,
   "id": "7580628a",
   "metadata": {},
   "outputs": [],
   "source": [
    "inp = torch.rand(10,1,160,160,36)"
   ]
  },
  {
   "cell_type": "code",
   "execution_count": 3,
   "id": "575c81b3",
   "metadata": {},
   "outputs": [
    {
     "data": {
      "text/plain": [
       "torch.Size([10, 921600])"
      ]
     },
     "execution_count": 3,
     "metadata": {},
     "output_type": "execute_result"
    }
   ],
   "source": [
    "inp.view(inp.shape[0],-1).shape"
   ]
  },
  {
   "cell_type": "code",
   "execution_count": 4,
   "id": "0ba920d9",
   "metadata": {},
   "outputs": [],
   "source": [
    "conv1 = nn.Sequential(\n",
    "                nn.Conv3d(1, 4, kernel_size=(7, 7, 7), padding=3),\n",
    "                nn.ReLU(),\n",
    "                nn.MaxPool3d((4, 4, 4)),\n",
    "                )\n",
    "conv2 = nn.Sequential(\n",
    "                nn.Conv3d(4, 4, kernel_size=(5, 5, 5), padding=2),\n",
    "                nn.ReLU(),\n",
    "                nn.MaxPool3d((2, 2, 2)),\n",
    "                )\n",
    "conv3 = nn.Sequential(\n",
    "                nn.Conv3d(4, 1, kernel_size=(3, 3, 3), padding=1),\n",
    "                nn.ReLU(),\n",
    "                nn.MaxPool3d((2, 2, 2)),\n",
    "                )"
   ]
  },
  {
   "cell_type": "code",
   "execution_count": 5,
   "id": "36934ff6",
   "metadata": {},
   "outputs": [
    {
     "name": "stdout",
     "output_type": "stream",
     "text": [
      "torch.Size([10, 1, 160, 160, 36])\n",
      "torch.Size([10, 4, 40, 40, 9])\n",
      "torch.Size([10, 4, 20, 20, 4])\n",
      "torch.Size([10, 1, 10, 10, 2])\n"
     ]
    }
   ],
   "source": [
    "print(inp.shape)\n",
    "out = conv1(inp)\n",
    "print(out.shape)\n",
    "out = conv2(out)\n",
    "print(out.shape)\n",
    "out = conv3(out)\n",
    "print(out.shape)"
   ]
  },
  {
   "cell_type": "code",
   "execution_count": 6,
   "id": "1c207409",
   "metadata": {},
   "outputs": [],
   "source": [
    "deconv1 = nn.Sequential(nn.ConvTranspose3d(1, 4, kernel_size= (3,3,3), padding=1),\n",
    "                       nn.Upsample(size=(20,20,4)))\n",
    "\n",
    "deconv2 = nn.Sequential(nn.ConvTranspose3d(4, 4, kernel_size= (5,5,5), padding=2),\n",
    "                       nn.Upsample(size=(40,40,9)))\n",
    "\n",
    "deconv3 = nn.Sequential(nn.ConvTranspose3d(4, 1, kernel_size= (7,7,7), padding=3),\n",
    "                       nn.Upsample(size=(160,160,36)))"
   ]
  },
  {
   "cell_type": "code",
   "execution_count": 7,
   "id": "704d038a",
   "metadata": {},
   "outputs": [
    {
     "name": "stdout",
     "output_type": "stream",
     "text": [
      "torch.Size([10, 4, 20, 20, 4])\n",
      "torch.Size([10, 4, 40, 40, 9])\n",
      "torch.Size([10, 1, 160, 160, 36])\n"
     ]
    }
   ],
   "source": [
    "out = deconv1(out)\n",
    "print(out.shape)\n",
    "out = deconv2(out)\n",
    "print(out.shape)\n",
    "out = deconv3(out)\n",
    "print(out.shape)"
   ]
  },
  {
   "cell_type": "code",
   "execution_count": 8,
   "id": "48c0b88d",
   "metadata": {},
   "outputs": [],
   "source": [
    "num_classes = 5\n",
    "\n",
    "class CNN_Enc_Dec(nn.Module):\n",
    "    def __init__(self):\n",
    "        super(CNN_Enc_Dec, self).__init__()\n",
    "        \n",
    "        self.conv1 = nn.Sequential(\n",
    "                nn.Conv3d(1, 4, kernel_size=(7, 7, 7), padding=3),\n",
    "                nn.ReLU(),\n",
    "                nn.MaxPool3d((4, 4, 4)),\n",
    "                )\n",
    "        self.conv2 = nn.Sequential(\n",
    "                nn.Conv3d(4, 4, kernel_size=(5, 5, 5), padding=2),\n",
    "                nn.ReLU(),\n",
    "                nn.MaxPool3d((2, 2, 2)),\n",
    "                )\n",
    "        self.conv3 = nn.Sequential(\n",
    "                nn.Conv3d(4, 1, kernel_size=(3, 3, 3), padding=1),\n",
    "                nn.ReLU(),\n",
    "                nn.MaxPool3d((2, 2, 2)),\n",
    "                )\n",
    "        self.deconv1 = nn.Sequential(nn.ConvTranspose3d(1, 4, kernel_size= (3,3,3), padding=1),\n",
    "                       nn.Upsample(size=(20,20,4)))\n",
    "\n",
    "        self.deconv2 = nn.Sequential(nn.ConvTranspose3d(4, 4, kernel_size= (5,5,5), padding=2),\n",
    "                       nn.Upsample(size=(40,40,9)))\n",
    "\n",
    "        self.deconv3 = nn.Sequential(nn.ConvTranspose3d(4, 1, kernel_size= (7,7,7), padding=3),\n",
    "                       nn.Upsample(size=(160,160,36)))\n",
    "        \n",
    "\n",
    "    def forward(self, x):\n",
    "        # Set 1\n",
    "        out = self.conv1(x)\n",
    "        out = self.conv2(out)\n",
    "        embed = self.conv3(out)\n",
    "        out = self.deconv1(embed)\n",
    "        out = self.deconv2(out)\n",
    "        out = self.deconv3(out)\n",
    "        \n",
    "        return embed, out"
   ]
  },
  {
   "cell_type": "code",
   "execution_count": 9,
   "id": "ba3b9bce",
   "metadata": {},
   "outputs": [
    {
     "name": "stdout",
     "output_type": "stream",
     "text": [
      "torch.Size([10, 1, 10, 10, 2])\n",
      "torch.Size([10, 1, 160, 160, 36])\n"
     ]
    }
   ],
   "source": [
    "model = CNN_Enc_Dec()\n",
    "embed, out = model(inp)\n",
    "print(embed.shape)\n",
    "print(out.shape)"
   ]
  },
  {
   "cell_type": "code",
   "execution_count": 23,
   "id": "9797d0a5",
   "metadata": {},
   "outputs": [],
   "source": [
    "import os\n",
    "import nibabel as nib\n",
    "import pandas as pd\n",
    "\n",
    "dirname = 'ds000113b_R2.0.1/'\n",
    "brain_volumes = []\n",
    "class_labels = []\n",
    "classes = ['ambient', 'symphonic', 'country', 'rocknroll','metal' ]\n",
    "for subj in os.listdir(dirname):\n",
    "    for run in range(1,9):\n",
    "        path = dirname+\"/\"+subj+\"/func\" + \"/\" + subj + '_task-auditoryperception_run-0'+ str(run)                     \n",
    "        img = nib.load(path + '_bold.nii.gz')\n",
    "        data = img.get_fdata()\n",
    "\n",
    "        df = pd.read_csv(path + '_events.tsv', sep='\\t')\n",
    "        genres = df['genre'].values\n",
    "        run_volumes = df['run_volume'].values\n",
    "        \n",
    "        for start, genre in zip(run_volumes, genres):\n",
    "            volume = data[:,:,:,start:start+6].mean(axis=-1)\n",
    "            brain_volumes.append(volume)\n",
    "            class_labels.append(classes.index(genre))\n",
    "    break"
   ]
  },
  {
   "cell_type": "code",
   "execution_count": 24,
   "id": "b4617c1c",
   "metadata": {},
   "outputs": [
    {
     "data": {
      "text/plain": [
       "(200, 200)"
      ]
     },
     "execution_count": 24,
     "metadata": {},
     "output_type": "execute_result"
    }
   ],
   "source": [
    "len(brain_volumes), len(class_labels)"
   ]
  },
  {
   "cell_type": "code",
   "execution_count": 25,
   "id": "ce371559",
   "metadata": {},
   "outputs": [
    {
     "data": {
      "text/plain": [
       "(160, 160, 36)"
      ]
     },
     "execution_count": 25,
     "metadata": {},
     "output_type": "execute_result"
    }
   ],
   "source": [
    "brain_volumes[0].shape"
   ]
  },
  {
   "cell_type": "code",
   "execution_count": 26,
   "id": "5d151fd1",
   "metadata": {},
   "outputs": [],
   "source": [
    "# import matplotlib.pyplot as plt\n",
    "# a = brain_volumes[0]\n",
    "# plt.imshow(a[:,:,18].T, cmap='Greys_r')\n",
    "# print(data.shape)"
   ]
  },
  {
   "cell_type": "code",
   "execution_count": 46,
   "id": "b630a3cc",
   "metadata": {},
   "outputs": [],
   "source": [
    "from torch.utils.data import TensorDataset, DataLoader, Dataset\n",
    "import numpy as np\n",
    "\n",
    "class BrainDataset(Dataset):\n",
    "    def __init__(self, brain_volumes, class_labels):\n",
    "        self.brain_volumes = brain_volumes\n",
    "        self.class_labels = class_labels\n",
    "\n",
    "    def __len__(self):\n",
    "        return len(self.class_labels)\n",
    "\n",
    "    def __getitem__(self, idx):\n",
    "        temp_img = brain_volumes[idx]\n",
    "        ind = np.where(brain_volumes[idx] < 200)\n",
    "        temp_img[ind] = 0\n",
    "        temp_img = temp_img / 2200\n",
    "        return temp_img, self.class_labels[idx]\n"
   ]
  },
  {
   "cell_type": "code",
   "execution_count": 47,
   "id": "58717dab",
   "metadata": {},
   "outputs": [],
   "source": [
    "# train_len = int(0.8 * len(brain_volumes))\n",
    "# train_dataset = BrainDataset(brain_volumes[:train_len], class_labels[:train_len])\n",
    "# val_dataset = BrainDataset(brain_volumes[train_len:], class_labels[train_len:])\n",
    "\n",
    "dataset = BrainDataset(brain_volumes, class_labels)"
   ]
  },
  {
   "cell_type": "code",
   "execution_count": 48,
   "id": "a2cee34a",
   "metadata": {},
   "outputs": [],
   "source": [
    "train_dataset , val_dataset = torch.utils.data.random_split(dataset, [0.8, 0.2])"
   ]
  },
  {
   "cell_type": "code",
   "execution_count": null,
   "id": "947dfb8d",
   "metadata": {},
   "outputs": [],
   "source": []
  },
  {
   "cell_type": "code",
   "execution_count": 49,
   "id": "b8062f55",
   "metadata": {},
   "outputs": [],
   "source": [
    "train_loader = DataLoader(train_dataset, batch_size=24, shuffle=True)\n",
    "val_loader = DataLoader(val_dataset, batch_size=24)"
   ]
  },
  {
   "cell_type": "code",
   "execution_count": 50,
   "id": "1bd1778f",
   "metadata": {},
   "outputs": [
    {
     "name": "stdout",
     "output_type": "stream",
     "text": [
      "torch.Size([24, 160, 160, 36])\n",
      "torch.Size([24])\n"
     ]
    }
   ],
   "source": [
    "for i, data in enumerate(train_loader):\n",
    "    print(data[0].shape)\n",
    "    print(data[1].shape)\n",
    "    break"
   ]
  },
  {
   "cell_type": "code",
   "execution_count": 55,
   "id": "b6e0596e",
   "metadata": {},
   "outputs": [],
   "source": [
    "def train_one_epoch(model, optimizer, dataloader,epoch):\n",
    "    model.train()\n",
    "    losses = []\n",
    "    accs = []\n",
    "    binaccs = []\n",
    "    \n",
    "    for i, (brain_volume, label) in enumerate(dataloader):\n",
    "        optimizer.zero_grad()\n",
    "        brain_volume = brain_volume.unsqueeze(1)\n",
    "        \n",
    "        brain_volume = brain_volume.to(device)\n",
    "        label = label.to(device)\n",
    "        \n",
    "        \n",
    "        embed, pred = model(brain_volume)\n",
    "        loss = loss_fn(pred, brain_volume)\n",
    "        loss.backward()\n",
    "        optimizer.step()\n",
    "        losses.append(loss.item())\n",
    "        \n",
    "#         pred_labels = torch.argmax(pred, axis=1)\n",
    "        \n",
    "#         acc = (pred_labels == label).sum() / len(label)\n",
    "#         accs.append(acc.item())\n",
    "        \n",
    "#         pred_labels[pred_labels <=1] = 0\n",
    "#         pred_labels[pred_labels > 1] = 1\n",
    "#         label[label <=1 ]= 0 \n",
    "#         label[label > 1] = 1\n",
    "        \n",
    "#         binacc = (pred_labels == label).sum() / len(label)\n",
    "#         binaccs.append( binacc.item() )\n",
    "        \n",
    "        print(\"Epoch \", epoch,\": \", i, \"/\", len(dataloader), \"loss :\", loss.item(), end='\\r')\n",
    "    print(\"train acc\", np.mean(accs))\n",
    "    print(\"train binary acc\", np.mean(binaccs))\n",
    "    return np.mean(losses), np.mean(accs)\n",
    "\n",
    "def validate(model, optimizer, dataloader,epoch):\n",
    "    model.eval()\n",
    "    losses = []\n",
    "    accs = []\n",
    "    binaccs = []\n",
    "    for i, (brain_volume, label) in enumerate(dataloader):\n",
    "        brain_volume = brain_volume.unsqueeze(1)\n",
    "        \n",
    "        brain_volume = brain_volume.to(device)\n",
    "        label = label.to(device)\n",
    "         \n",
    "        embed, pred = model(brain_volume)\n",
    "        loss = loss_fn(pred, brain_volume)\n",
    "\n",
    "#         pred_labels = torch.argmax(pred, axis=1)\n",
    "        \n",
    "#         acc = (pred_labels == label).sum() / len(label)\n",
    "#         accs.append(acc.item())\n",
    "        \n",
    "#         losses.append(loss.item())\n",
    "        \n",
    "#         pred_labels[pred_labels <=1] = 0\n",
    "#         pred_labels[pred_labels > 1] = 1\n",
    "#         label[label <=1 ]= 0 \n",
    "#         label[label > 1] = 1\n",
    "#         binacc = (pred_labels == label).sum() / len(label)\n",
    "#         binaccs.append( binacc.item() )\n",
    "        \n",
    "    print(\"val acc\", np.mean(accs))\n",
    "    print(\"val binary acc\", np.mean(binaccs))\n",
    "    \n",
    "    plt.matshow(pred[0][0][:,:,8])\n",
    "    plt.show()\n",
    "    return np.mean(losses), np.mean(accs)"
   ]
  },
  {
   "cell_type": "code",
   "execution_count": 56,
   "id": "5fbb8d13",
   "metadata": {},
   "outputs": [
    {
     "name": "stdout",
     "output_type": "stream",
     "text": [
      "train acc nan / 7 loss : 0.016944581818808796\n",
      "train binary acc nan\n"
     ]
    },
    {
     "name": "stderr",
     "output_type": "stream",
     "text": [
      "/home2/vijay.vignesh/miniconda3/envs/tdl/lib/python3.8/site-packages/numpy/core/fromnumeric.py:3432: RuntimeWarning: Mean of empty slice.\n",
      "  return _methods._mean(a, axis=axis, dtype=dtype,\n",
      "/home2/vijay.vignesh/miniconda3/envs/tdl/lib/python3.8/site-packages/numpy/core/_methods.py:190: RuntimeWarning: invalid value encountered in double_scalars\n",
      "  ret = ret.dtype.type(ret / rcount)\n"
     ]
    },
    {
     "name": "stdout",
     "output_type": "stream",
     "text": [
      "val acc nan\n",
      "val binary acc nan\n"
     ]
    },
    {
     "ename": "TypeError",
     "evalue": "can't convert cuda:0 device type tensor to numpy. Use Tensor.cpu() to copy the tensor to host memory first.",
     "output_type": "error",
     "traceback": [
      "\u001b[0;31m---------------------------------------------------------------------------\u001b[0m",
      "\u001b[0;31mTypeError\u001b[0m                                 Traceback (most recent call last)",
      "Cell \u001b[0;32mIn[56], line 19\u001b[0m\n\u001b[1;32m     17\u001b[0m \u001b[38;5;28;01mfor\u001b[39;00m epoch \u001b[38;5;129;01min\u001b[39;00m \u001b[38;5;28mrange\u001b[39m(num_epochs):\n\u001b[1;32m     18\u001b[0m     loss, acc \u001b[38;5;241m=\u001b[39m train_one_epoch(model, optimizer, train_loader, epoch)\n\u001b[0;32m---> 19\u001b[0m     val_loss, val_acc \u001b[38;5;241m=\u001b[39m \u001b[43mvalidate\u001b[49m\u001b[43m(\u001b[49m\u001b[43mmodel\u001b[49m\u001b[43m,\u001b[49m\u001b[43m \u001b[49m\u001b[43moptimizer\u001b[49m\u001b[43m,\u001b[49m\u001b[43m \u001b[49m\u001b[43mval_loader\u001b[49m\u001b[43m,\u001b[49m\u001b[43m \u001b[49m\u001b[43mepoch\u001b[49m\u001b[43m)\u001b[49m\n\u001b[1;32m     20\u001b[0m     train_losses\u001b[38;5;241m.\u001b[39mappend(loss)\n\u001b[1;32m     21\u001b[0m     train_accs\u001b[38;5;241m.\u001b[39mappend(acc)\n",
      "Cell \u001b[0;32mIn[55], line 70\u001b[0m, in \u001b[0;36mvalidate\u001b[0;34m(model, optimizer, dataloader, epoch)\u001b[0m\n\u001b[1;32m     67\u001b[0m \u001b[38;5;28mprint\u001b[39m(\u001b[38;5;124m\"\u001b[39m\u001b[38;5;124mval acc\u001b[39m\u001b[38;5;124m\"\u001b[39m, np\u001b[38;5;241m.\u001b[39mmean(accs))\n\u001b[1;32m     68\u001b[0m \u001b[38;5;28mprint\u001b[39m(\u001b[38;5;124m\"\u001b[39m\u001b[38;5;124mval binary acc\u001b[39m\u001b[38;5;124m\"\u001b[39m, np\u001b[38;5;241m.\u001b[39mmean(binaccs))\n\u001b[0;32m---> 70\u001b[0m \u001b[43mplt\u001b[49m\u001b[38;5;241;43m.\u001b[39;49m\u001b[43mmatshow\u001b[49m\u001b[43m(\u001b[49m\u001b[43mpred\u001b[49m\u001b[43m[\u001b[49m\u001b[38;5;241;43m0\u001b[39;49m\u001b[43m]\u001b[49m\u001b[43m[\u001b[49m\u001b[38;5;241;43m0\u001b[39;49m\u001b[43m]\u001b[49m\u001b[43m[\u001b[49m\u001b[43m:\u001b[49m\u001b[43m,\u001b[49m\u001b[43m:\u001b[49m\u001b[43m,\u001b[49m\u001b[38;5;241;43m8\u001b[39;49m\u001b[43m]\u001b[49m\u001b[43m)\u001b[49m\n\u001b[1;32m     71\u001b[0m plt\u001b[38;5;241m.\u001b[39mshow()\n\u001b[1;32m     72\u001b[0m \u001b[38;5;28;01mreturn\u001b[39;00m np\u001b[38;5;241m.\u001b[39mmean(losses), np\u001b[38;5;241m.\u001b[39mmean(accs)\n",
      "File \u001b[0;32m~/miniconda3/envs/tdl/lib/python3.8/site-packages/matplotlib/pyplot.py:2242\u001b[0m, in \u001b[0;36mmatshow\u001b[0;34m(A, fignum, **kwargs)\u001b[0m\n\u001b[1;32m   2203\u001b[0m \u001b[38;5;28;01mdef\u001b[39;00m \u001b[38;5;21mmatshow\u001b[39m(A, fignum\u001b[38;5;241m=\u001b[39m\u001b[38;5;28;01mNone\u001b[39;00m, \u001b[38;5;241m*\u001b[39m\u001b[38;5;241m*\u001b[39mkwargs):\n\u001b[1;32m   2204\u001b[0m     \u001b[38;5;124;03m\"\"\"\u001b[39;00m\n\u001b[1;32m   2205\u001b[0m \u001b[38;5;124;03m    Display an array as a matrix in a new figure window.\u001b[39;00m\n\u001b[1;32m   2206\u001b[0m \n\u001b[0;32m   (...)\u001b[0m\n\u001b[1;32m   2240\u001b[0m \n\u001b[1;32m   2241\u001b[0m \u001b[38;5;124;03m    \"\"\"\u001b[39;00m\n\u001b[0;32m-> 2242\u001b[0m     A \u001b[38;5;241m=\u001b[39m \u001b[43mnp\u001b[49m\u001b[38;5;241;43m.\u001b[39;49m\u001b[43masanyarray\u001b[49m\u001b[43m(\u001b[49m\u001b[43mA\u001b[49m\u001b[43m)\u001b[49m\n\u001b[1;32m   2243\u001b[0m     \u001b[38;5;28;01mif\u001b[39;00m fignum \u001b[38;5;241m==\u001b[39m \u001b[38;5;241m0\u001b[39m:\n\u001b[1;32m   2244\u001b[0m         ax \u001b[38;5;241m=\u001b[39m gca()\n",
      "File \u001b[0;32m~/miniconda3/envs/tdl/lib/python3.8/site-packages/torch/_tensor.py:970\u001b[0m, in \u001b[0;36mTensor.__array__\u001b[0;34m(self, dtype)\u001b[0m\n\u001b[1;32m    968\u001b[0m     \u001b[38;5;28;01mreturn\u001b[39;00m handle_torch_function(Tensor\u001b[38;5;241m.\u001b[39m__array__, (\u001b[38;5;28mself\u001b[39m,), \u001b[38;5;28mself\u001b[39m, dtype\u001b[38;5;241m=\u001b[39mdtype)\n\u001b[1;32m    969\u001b[0m \u001b[38;5;28;01mif\u001b[39;00m dtype \u001b[38;5;129;01mis\u001b[39;00m \u001b[38;5;28;01mNone\u001b[39;00m:\n\u001b[0;32m--> 970\u001b[0m     \u001b[38;5;28;01mreturn\u001b[39;00m \u001b[38;5;28;43mself\u001b[39;49m\u001b[38;5;241;43m.\u001b[39;49m\u001b[43mnumpy\u001b[49m\u001b[43m(\u001b[49m\u001b[43m)\u001b[49m\n\u001b[1;32m    971\u001b[0m \u001b[38;5;28;01melse\u001b[39;00m:\n\u001b[1;32m    972\u001b[0m     \u001b[38;5;28;01mreturn\u001b[39;00m \u001b[38;5;28mself\u001b[39m\u001b[38;5;241m.\u001b[39mnumpy()\u001b[38;5;241m.\u001b[39mastype(dtype, copy\u001b[38;5;241m=\u001b[39m\u001b[38;5;28;01mFalse\u001b[39;00m)\n",
      "\u001b[0;31mTypeError\u001b[0m: can't convert cuda:0 device type tensor to numpy. Use Tensor.cpu() to copy the tensor to host memory first."
     ]
    }
   ],
   "source": [
    "model = CNN_Enc_Dec()\n",
    "device = torch.device('cuda')\n",
    "model.to(device)\n",
    "model.double()\n",
    "\n",
    "# loss_fn = nn.CrossEntropyLoss()\n",
    "def loss_fn(out, target):\n",
    "    return torch.mean((out.view(out.shape[0], -1) - target.view(target.shape[0], -1))**2)\n",
    "\n",
    "lr = 1e-4\n",
    "optimizer = torch.optim.AdamW(model.parameters(), lr=lr, weight_decay=1e-6)\n",
    "num_epochs = 10\n",
    "train_losses = []\n",
    "val_losses = []\n",
    "val_accs = []\n",
    "train_accs = []\n",
    "for epoch in range(num_epochs):\n",
    "    loss, acc = train_one_epoch(model, optimizer, train_loader, epoch)\n",
    "    val_loss, val_acc = validate(model, optimizer, val_loader, epoch)\n",
    "    train_losses.append(loss)\n",
    "    train_accs.append(acc)\n",
    "    val_losses.append(val_loss)\n",
    "    val_accs.append(val_acc)\n",
    "    print(\"---------------\")"
   ]
  },
  {
   "cell_type": "code",
   "execution_count": null,
   "id": "3d8f097c",
   "metadata": {},
   "outputs": [],
   "source": [
    "import matplotlib.pyplot as plt\n",
    "plt.plot(train_losses, label=\"train\")\n",
    "plt.plot(val_losses, label=\"val\")\n",
    "plt.legend()"
   ]
  },
  {
   "cell_type": "code",
   "execution_count": null,
   "id": "8ca51a45",
   "metadata": {},
   "outputs": [],
   "source": [
    "plt.plot(val_accs, label=\"val acc\")\n",
    "plt.plot(train_accs, label=\"train acc\")\n",
    "plt.legend()"
   ]
  },
  {
   "cell_type": "code",
   "execution_count": null,
   "id": "6e5987ec",
   "metadata": {},
   "outputs": [],
   "source": []
  },
  {
   "cell_type": "code",
   "execution_count": null,
   "id": "a341527e",
   "metadata": {},
   "outputs": [],
   "source": []
  },
  {
   "cell_type": "code",
   "execution_count": null,
   "id": "9e854ac9",
   "metadata": {},
   "outputs": [],
   "source": []
  },
  {
   "cell_type": "code",
   "execution_count": null,
   "id": "1bb43654",
   "metadata": {},
   "outputs": [],
   "source": []
  },
  {
   "cell_type": "code",
   "execution_count": null,
   "id": "dae3dd18",
   "metadata": {},
   "outputs": [],
   "source": []
  },
  {
   "cell_type": "code",
   "execution_count": null,
   "id": "e7e9a29d",
   "metadata": {},
   "outputs": [],
   "source": []
  },
  {
   "cell_type": "code",
   "execution_count": null,
   "id": "da4b8442",
   "metadata": {},
   "outputs": [],
   "source": []
  },
  {
   "cell_type": "code",
   "execution_count": null,
   "id": "b908b4ab",
   "metadata": {},
   "outputs": [],
   "source": []
  },
  {
   "cell_type": "code",
   "execution_count": null,
   "id": "8e85aea5",
   "metadata": {},
   "outputs": [],
   "source": []
  },
  {
   "cell_type": "code",
   "execution_count": null,
   "id": "9a431603",
   "metadata": {},
   "outputs": [],
   "source": []
  },
  {
   "cell_type": "code",
   "execution_count": null,
   "id": "e12a8b20",
   "metadata": {},
   "outputs": [],
   "source": []
  }
 ],
 "metadata": {
  "kernelspec": {
   "display_name": "Python [conda env:tdl] *",
   "language": "python",
   "name": "conda-env-tdl-py"
  },
  "language_info": {
   "codemirror_mode": {
    "name": "ipython",
    "version": 3
   },
   "file_extension": ".py",
   "mimetype": "text/x-python",
   "name": "python",
   "nbconvert_exporter": "python",
   "pygments_lexer": "ipython3",
   "version": "3.8.16"
  }
 },
 "nbformat": 4,
 "nbformat_minor": 5
}
